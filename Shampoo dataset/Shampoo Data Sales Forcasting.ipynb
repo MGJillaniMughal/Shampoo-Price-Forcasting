{
 "cells": [
  {
   "cell_type": "code",
   "execution_count": 1,
   "id": "537754a5",
   "metadata": {},
   "outputs": [],
   "source": [
    "import numpy as np\n",
    "import pandas as pd\n",
    "from matplotlib import pyplot as plt\n",
    "import seaborn as sns\n"
   ]
  },
  {
   "cell_type": "code",
   "execution_count": 2,
   "id": "88db617f",
   "metadata": {},
   "outputs": [],
   "source": [
    "df=pd.read_csv('shampoo.csv')"
   ]
  },
  {
   "cell_type": "code",
   "execution_count": 3,
   "id": "86b97bf7",
   "metadata": {},
   "outputs": [
    {
     "data": {
      "text/html": [
       "<div>\n",
       "<style scoped>\n",
       "    .dataframe tbody tr th:only-of-type {\n",
       "        vertical-align: middle;\n",
       "    }\n",
       "\n",
       "    .dataframe tbody tr th {\n",
       "        vertical-align: top;\n",
       "    }\n",
       "\n",
       "    .dataframe thead th {\n",
       "        text-align: right;\n",
       "    }\n",
       "</style>\n",
       "<table border=\"1\" class=\"dataframe\">\n",
       "  <thead>\n",
       "    <tr style=\"text-align: right;\">\n",
       "      <th></th>\n",
       "      <th>Month</th>\n",
       "      <th>Sales</th>\n",
       "    </tr>\n",
       "  </thead>\n",
       "  <tbody>\n",
       "    <tr>\n",
       "      <th>0</th>\n",
       "      <td>1-01</td>\n",
       "      <td>266.0</td>\n",
       "    </tr>\n",
       "    <tr>\n",
       "      <th>1</th>\n",
       "      <td>1-02</td>\n",
       "      <td>145.9</td>\n",
       "    </tr>\n",
       "    <tr>\n",
       "      <th>2</th>\n",
       "      <td>1-03</td>\n",
       "      <td>183.1</td>\n",
       "    </tr>\n",
       "    <tr>\n",
       "      <th>3</th>\n",
       "      <td>1-04</td>\n",
       "      <td>119.3</td>\n",
       "    </tr>\n",
       "    <tr>\n",
       "      <th>4</th>\n",
       "      <td>1-05</td>\n",
       "      <td>180.3</td>\n",
       "    </tr>\n",
       "  </tbody>\n",
       "</table>\n",
       "</div>"
      ],
      "text/plain": [
       "  Month  Sales\n",
       "0  1-01  266.0\n",
       "1  1-02  145.9\n",
       "2  1-03  183.1\n",
       "3  1-04  119.3\n",
       "4  1-05  180.3"
      ]
     },
     "execution_count": 3,
     "metadata": {},
     "output_type": "execute_result"
    }
   ],
   "source": [
    "df.head()"
   ]
  },
  {
   "cell_type": "code",
   "execution_count": 4,
   "id": "9bc16e51",
   "metadata": {},
   "outputs": [
    {
     "data": {
      "text/html": [
       "<div>\n",
       "<style scoped>\n",
       "    .dataframe tbody tr th:only-of-type {\n",
       "        vertical-align: middle;\n",
       "    }\n",
       "\n",
       "    .dataframe tbody tr th {\n",
       "        vertical-align: top;\n",
       "    }\n",
       "\n",
       "    .dataframe thead th {\n",
       "        text-align: right;\n",
       "    }\n",
       "</style>\n",
       "<table border=\"1\" class=\"dataframe\">\n",
       "  <thead>\n",
       "    <tr style=\"text-align: right;\">\n",
       "      <th></th>\n",
       "      <th>Month</th>\n",
       "      <th>Sales</th>\n",
       "    </tr>\n",
       "  </thead>\n",
       "  <tbody>\n",
       "    <tr>\n",
       "      <th>31</th>\n",
       "      <td>3-08</td>\n",
       "      <td>407.6</td>\n",
       "    </tr>\n",
       "    <tr>\n",
       "      <th>32</th>\n",
       "      <td>3-09</td>\n",
       "      <td>682.0</td>\n",
       "    </tr>\n",
       "    <tr>\n",
       "      <th>33</th>\n",
       "      <td>3-10</td>\n",
       "      <td>475.3</td>\n",
       "    </tr>\n",
       "    <tr>\n",
       "      <th>34</th>\n",
       "      <td>3-11</td>\n",
       "      <td>581.3</td>\n",
       "    </tr>\n",
       "    <tr>\n",
       "      <th>35</th>\n",
       "      <td>3-12</td>\n",
       "      <td>646.9</td>\n",
       "    </tr>\n",
       "  </tbody>\n",
       "</table>\n",
       "</div>"
      ],
      "text/plain": [
       "   Month  Sales\n",
       "31  3-08  407.6\n",
       "32  3-09  682.0\n",
       "33  3-10  475.3\n",
       "34  3-11  581.3\n",
       "35  3-12  646.9"
      ]
     },
     "execution_count": 4,
     "metadata": {},
     "output_type": "execute_result"
    }
   ],
   "source": [
    "df.tail()"
   ]
  },
  {
   "cell_type": "code",
   "execution_count": 5,
   "id": "a9a70608",
   "metadata": {},
   "outputs": [
    {
     "data": {
      "text/plain": [
       "pandas.core.frame.DataFrame"
      ]
     },
     "execution_count": 5,
     "metadata": {},
     "output_type": "execute_result"
    }
   ],
   "source": [
    "type(df)"
   ]
  },
  {
   "cell_type": "markdown",
   "id": "967773bf",
   "metadata": {},
   "source": [
    "# I convert dataframe to series"
   ]
  },
  {
   "cell_type": "code",
   "execution_count": 6,
   "id": "28ff88af",
   "metadata": {},
   "outputs": [],
   "source": [
    "df=pd.read_csv('shampoo.csv',index_col='Month',squeeze=True)"
   ]
  },
  {
   "cell_type": "code",
   "execution_count": 7,
   "id": "ae68538f",
   "metadata": {},
   "outputs": [
    {
     "data": {
      "text/plain": [
       "Month\n",
       "1-01    266.0\n",
       "1-02    145.9\n",
       "1-03    183.1\n",
       "1-04    119.3\n",
       "1-05    180.3\n",
       "Name: Sales, dtype: float64"
      ]
     },
     "execution_count": 7,
     "metadata": {},
     "output_type": "execute_result"
    }
   ],
   "source": [
    "df.head()"
   ]
  },
  {
   "cell_type": "code",
   "execution_count": 8,
   "id": "9021ec16",
   "metadata": {},
   "outputs": [
    {
     "data": {
      "text/plain": [
       "pandas.core.series.Series"
      ]
     },
     "execution_count": 8,
     "metadata": {},
     "output_type": "execute_result"
    }
   ],
   "source": [
    "type(df)"
   ]
  },
  {
   "cell_type": "code",
   "execution_count": 9,
   "id": "6e390687",
   "metadata": {},
   "outputs": [
    {
     "data": {
      "image/png": "[encoded data removed]",
      "text/plain": [
       "<Figure size 432x288 with 1 Axes>"
      ]
     },
     "metadata": {
      "needs_background": "light"
     },
     "output_type": "display_data"
    }
   ],
   "source": [
    "df.plot()\n",
    "plt.xlabel('Months')\n",
    "plt.ylabel('Sales')\n",
    "plt.show()"
   ]
  },
  {
   "cell_type": "code",
   "execution_count": 10,
   "id": "167067f7",
   "metadata": {},
   "outputs": [
    {
     "data": {
      "image/png": "[encoded data removed]",
      "text/plain": [
       "<Figure size 432x288 with 1 Axes>"
      ]
     },
     "metadata": {
      "needs_background": "light"
     },
     "output_type": "display_data"
    }
   ],
   "source": [
    "df.plot(style='k .')\n",
    "plt.xlabel('Months')\n",
    "plt.ylabel('Sales')\n",
    "plt.show()"
   ]
  },
  {
   "cell_type": "code",
   "execution_count": 11,
   "id": "c9445ad0",
   "metadata": {},
   "outputs": [
    {
     "data": {
      "text/plain": [
       "36"
      ]
     },
     "execution_count": 11,
     "metadata": {},
     "output_type": "execute_result"
    }
   ],
   "source": [
    "df.size"
   ]
  },
  {
   "cell_type": "code",
   "execution_count": 12,
   "id": "802fb6fe",
   "metadata": {},
   "outputs": [
    {
     "data": {
      "text/plain": [
       "count     36.000000\n",
       "mean     312.600000\n",
       "std      148.937164\n",
       "min      119.300000\n",
       "25%      192.450000\n",
       "50%      280.150000\n",
       "75%      411.100000\n",
       "max      682.000000\n",
       "Name: Sales, dtype: float64"
      ]
     },
     "execution_count": 12,
     "metadata": {},
     "output_type": "execute_result"
    }
   ],
   "source": [
    "df.describe()"
   ]
  },
  {
   "cell_type": "code",
   "execution_count": 13,
   "id": "9f7d39c5",
   "metadata": {},
   "outputs": [],
   "source": [
    "# Now Moving Average\n",
    "df_ma=df.rolling(window=7).mean()"
   ]
  },
  {
   "cell_type": "code",
   "execution_count": 14,
   "id": "ae9dedb6",
   "metadata": {},
   "outputs": [
    {
     "data": {
      "image/png": "[encoded data removed]",
      "text/plain": [
       "<Figure size 432x288 with 1 Axes>"
      ]
     },
     "metadata": {
      "needs_background": "light"
     },
     "output_type": "display_data"
    }
   ],
   "source": [
    "df_ma.plot()\n",
    "plt.xlabel('Months')\n",
    "plt.ylabel('Sales')\n",
    "plt.show()"
   ]
  },
  {
   "cell_type": "code",
   "execution_count": 15,
   "id": "70940eeb",
   "metadata": {},
   "outputs": [
    {
     "data": {
      "text/plain": [
       "Month\n",
       "1-01    266.0\n",
       "1-02    145.9\n",
       "1-03    183.1\n",
       "1-04    119.3\n",
       "1-05    180.3\n",
       "1-06    168.5\n",
       "1-07    231.8\n",
       "1-08    224.5\n",
       "1-09    192.8\n",
       "1-10    122.9\n",
       "1-11    336.5\n",
       "1-12    185.9\n",
       "2-01    194.3\n",
       "2-02    149.5\n",
       "2-03    210.1\n",
       "2-04    273.3\n",
       "2-05    191.4\n",
       "2-06    287.0\n",
       "2-07    226.0\n",
       "2-08    303.6\n",
       "2-09    289.9\n",
       "2-10    421.6\n",
       "2-11    264.5\n",
       "2-12    342.3\n",
       "3-01    339.7\n",
       "3-02    440.4\n",
       "3-03    315.9\n",
       "3-04    439.3\n",
       "3-05    401.3\n",
       "3-06    437.4\n",
       "3-07    575.5\n",
       "3-08    407.6\n",
       "3-09    682.0\n",
       "3-10    475.3\n",
       "3-11    581.3\n",
       "3-12    646.9\n",
       "Name: Sales, dtype: float64"
      ]
     },
     "execution_count": 15,
     "metadata": {},
     "output_type": "execute_result"
    }
   ],
   "source": [
    "df"
   ]
  },
  {
   "cell_type": "code",
   "execution_count": 16,
   "id": "2414ba31",
   "metadata": {},
   "outputs": [],
   "source": [
    "df_base=pd.concat([df,df.shift(1)],axis=1) # Now Create a base line model this is also called naive model"
   ]
  },
  {
   "cell_type": "code",
   "execution_count": 17,
   "id": "8689d4e1",
   "metadata": {},
   "outputs": [
    {
     "data": {
      "text/html": [
       "<div>\n",
       "<style scoped>\n",
       "    .dataframe tbody tr th:only-of-type {\n",
       "        vertical-align: middle;\n",
       "    }\n",
       "\n",
       "    .dataframe tbody tr th {\n",
       "        vertical-align: top;\n",
       "    }\n",
       "\n",
       "    .dataframe thead th {\n",
       "        text-align: right;\n",
       "    }\n",
       "</style>\n",
       "<table border=\"1\" class=\"dataframe\">\n",
       "  <thead>\n",
       "    <tr style=\"text-align: right;\">\n",
       "      <th></th>\n",
       "      <th>Sales</th>\n",
       "      <th>Sales</th>\n",
       "    </tr>\n",
       "    <tr>\n",
       "      <th>Month</th>\n",
       "      <th></th>\n",
       "      <th></th>\n",
       "    </tr>\n",
       "  </thead>\n",
       "  <tbody>\n",
       "    <tr>\n",
       "      <th>1-01</th>\n",
       "      <td>266.0</td>\n",
       "      <td>NaN</td>\n",
       "    </tr>\n",
       "    <tr>\n",
       "      <th>1-02</th>\n",
       "      <td>145.9</td>\n",
       "      <td>266.0</td>\n",
       "    </tr>\n",
       "    <tr>\n",
       "      <th>1-03</th>\n",
       "      <td>183.1</td>\n",
       "      <td>145.9</td>\n",
       "    </tr>\n",
       "    <tr>\n",
       "      <th>1-04</th>\n",
       "      <td>119.3</td>\n",
       "      <td>183.1</td>\n",
       "    </tr>\n",
       "    <tr>\n",
       "      <th>1-05</th>\n",
       "      <td>180.3</td>\n",
       "      <td>119.3</td>\n",
       "    </tr>\n",
       "    <tr>\n",
       "      <th>1-06</th>\n",
       "      <td>168.5</td>\n",
       "      <td>180.3</td>\n",
       "    </tr>\n",
       "    <tr>\n",
       "      <th>1-07</th>\n",
       "      <td>231.8</td>\n",
       "      <td>168.5</td>\n",
       "    </tr>\n",
       "    <tr>\n",
       "      <th>1-08</th>\n",
       "      <td>224.5</td>\n",
       "      <td>231.8</td>\n",
       "    </tr>\n",
       "    <tr>\n",
       "      <th>1-09</th>\n",
       "      <td>192.8</td>\n",
       "      <td>224.5</td>\n",
       "    </tr>\n",
       "    <tr>\n",
       "      <th>1-10</th>\n",
       "      <td>122.9</td>\n",
       "      <td>192.8</td>\n",
       "    </tr>\n",
       "    <tr>\n",
       "      <th>1-11</th>\n",
       "      <td>336.5</td>\n",
       "      <td>122.9</td>\n",
       "    </tr>\n",
       "    <tr>\n",
       "      <th>1-12</th>\n",
       "      <td>185.9</td>\n",
       "      <td>336.5</td>\n",
       "    </tr>\n",
       "    <tr>\n",
       "      <th>2-01</th>\n",
       "      <td>194.3</td>\n",
       "      <td>185.9</td>\n",
       "    </tr>\n",
       "    <tr>\n",
       "      <th>2-02</th>\n",
       "      <td>149.5</td>\n",
       "      <td>194.3</td>\n",
       "    </tr>\n",
       "    <tr>\n",
       "      <th>2-03</th>\n",
       "      <td>210.1</td>\n",
       "      <td>149.5</td>\n",
       "    </tr>\n",
       "    <tr>\n",
       "      <th>2-04</th>\n",
       "      <td>273.3</td>\n",
       "      <td>210.1</td>\n",
       "    </tr>\n",
       "    <tr>\n",
       "      <th>2-05</th>\n",
       "      <td>191.4</td>\n",
       "      <td>273.3</td>\n",
       "    </tr>\n",
       "    <tr>\n",
       "      <th>2-06</th>\n",
       "      <td>287.0</td>\n",
       "      <td>191.4</td>\n",
       "    </tr>\n",
       "    <tr>\n",
       "      <th>2-07</th>\n",
       "      <td>226.0</td>\n",
       "      <td>287.0</td>\n",
       "    </tr>\n",
       "    <tr>\n",
       "      <th>2-08</th>\n",
       "      <td>303.6</td>\n",
       "      <td>226.0</td>\n",
       "    </tr>\n",
       "    <tr>\n",
       "      <th>2-09</th>\n",
       "      <td>289.9</td>\n",
       "      <td>303.6</td>\n",
       "    </tr>\n",
       "    <tr>\n",
       "      <th>2-10</th>\n",
       "      <td>421.6</td>\n",
       "      <td>289.9</td>\n",
       "    </tr>\n",
       "    <tr>\n",
       "      <th>2-11</th>\n",
       "      <td>264.5</td>\n",
       "      <td>421.6</td>\n",
       "    </tr>\n",
       "    <tr>\n",
       "      <th>2-12</th>\n",
       "      <td>342.3</td>\n",
       "      <td>264.5</td>\n",
       "    </tr>\n",
       "    <tr>\n",
       "      <th>3-01</th>\n",
       "      <td>339.7</td>\n",
       "      <td>342.3</td>\n",
       "    </tr>\n",
       "    <tr>\n",
       "      <th>3-02</th>\n",
       "      <td>440.4</td>\n",
       "      <td>339.7</td>\n",
       "    </tr>\n",
       "    <tr>\n",
       "      <th>3-03</th>\n",
       "      <td>315.9</td>\n",
       "      <td>440.4</td>\n",
       "    </tr>\n",
       "    <tr>\n",
       "      <th>3-04</th>\n",
       "      <td>439.3</td>\n",
       "      <td>315.9</td>\n",
       "    </tr>\n",
       "    <tr>\n",
       "      <th>3-05</th>\n",
       "      <td>401.3</td>\n",
       "      <td>439.3</td>\n",
       "    </tr>\n",
       "    <tr>\n",
       "      <th>3-06</th>\n",
       "      <td>437.4</td>\n",
       "      <td>401.3</td>\n",
       "    </tr>\n",
       "    <tr>\n",
       "      <th>3-07</th>\n",
       "      <td>575.5</td>\n",
       "      <td>437.4</td>\n",
       "    </tr>\n",
       "    <tr>\n",
       "      <th>3-08</th>\n",
       "      <td>407.6</td>\n",
       "      <td>575.5</td>\n",
       "    </tr>\n",
       "    <tr>\n",
       "      <th>3-09</th>\n",
       "      <td>682.0</td>\n",
       "      <td>407.6</td>\n",
       "    </tr>\n",
       "    <tr>\n",
       "      <th>3-10</th>\n",
       "      <td>475.3</td>\n",
       "      <td>682.0</td>\n",
       "    </tr>\n",
       "    <tr>\n",
       "      <th>3-11</th>\n",
       "      <td>581.3</td>\n",
       "      <td>475.3</td>\n",
       "    </tr>\n",
       "    <tr>\n",
       "      <th>3-12</th>\n",
       "      <td>646.9</td>\n",
       "      <td>581.3</td>\n",
       "    </tr>\n",
       "  </tbody>\n",
       "</table>\n",
       "</div>"
      ],
      "text/plain": [
       "       Sales  Sales\n",
       "Month              \n",
       "1-01   266.0    NaN\n",
       "1-02   145.9  266.0\n",
       "1-03   183.1  145.9\n",
       "1-04   119.3  183.1\n",
       "1-05   180.3  119.3\n",
       "1-06   168.5  180.3\n",
       "1-07   231.8  168.5\n",
       "1-08   224.5  231.8\n",
       "1-09   192.8  224.5\n",
       "1-10   122.9  192.8\n",
       "1-11   336.5  122.9\n",
       "1-12   185.9  336.5\n",
       "2-01   194.3  185.9\n",
       "2-02   149.5  194.3\n",
       "2-03   210.1  149.5\n",
       "2-04   273.3  210.1\n",
       "2-05   191.4  273.3\n",
       "2-06   287.0  191.4\n",
       "2-07   226.0  287.0\n",
       "2-08   303.6  226.0\n",
       "2-09   289.9  303.6\n",
       "2-10   421.6  289.9\n",
       "2-11   264.5  421.6\n",
       "2-12   342.3  264.5\n",
       "3-01   339.7  342.3\n",
       "3-02   440.4  339.7\n",
       "3-03   315.9  440.4\n",
       "3-04   439.3  315.9\n",
       "3-05   401.3  439.3\n",
       "3-06   437.4  401.3\n",
       "3-07   575.5  437.4\n",
       "3-08   407.6  575.5\n",
       "3-09   682.0  407.6\n",
       "3-10   475.3  682.0\n",
       "3-11   581.3  475.3\n",
       "3-12   646.9  581.3"
      ]
     },
     "execution_count": 17,
     "metadata": {},
     "output_type": "execute_result"
    }
   ],
   "source": [
    "df_base"
   ]
  },
  {
   "cell_type": "code",
   "execution_count": 18,
   "id": "c5bc83a1",
   "metadata": {},
   "outputs": [],
   "source": [
    "df_base.columns=['Actual_Sales','Forcast_Sale']"
   ]
  },
  {
   "cell_type": "code",
   "execution_count": 19,
   "id": "ecc9f3ad",
   "metadata": {},
   "outputs": [
    {
     "data": {
      "text/html": [
       "<div>\n",
       "<style scoped>\n",
       "    .dataframe tbody tr th:only-of-type {\n",
       "        vertical-align: middle;\n",
       "    }\n",
       "\n",
       "    .dataframe tbody tr th {\n",
       "        vertical-align: top;\n",
       "    }\n",
       "\n",
       "    .dataframe thead th {\n",
       "        text-align: right;\n",
       "    }\n",
       "</style>\n",
       "<table border=\"1\" class=\"dataframe\">\n",
       "  <thead>\n",
       "    <tr style=\"text-align: right;\">\n",
       "      <th></th>\n",
       "      <th>Actual_Sales</th>\n",
       "      <th>Forcast_Sale</th>\n",
       "    </tr>\n",
       "    <tr>\n",
       "      <th>Month</th>\n",
       "      <th></th>\n",
       "      <th></th>\n",
       "    </tr>\n",
       "  </thead>\n",
       "  <tbody>\n",
       "    <tr>\n",
       "      <th>1-01</th>\n",
       "      <td>266.0</td>\n",
       "      <td>NaN</td>\n",
       "    </tr>\n",
       "    <tr>\n",
       "      <th>1-02</th>\n",
       "      <td>145.9</td>\n",
       "      <td>266.0</td>\n",
       "    </tr>\n",
       "    <tr>\n",
       "      <th>1-03</th>\n",
       "      <td>183.1</td>\n",
       "      <td>145.9</td>\n",
       "    </tr>\n",
       "    <tr>\n",
       "      <th>1-04</th>\n",
       "      <td>119.3</td>\n",
       "      <td>183.1</td>\n",
       "    </tr>\n",
       "    <tr>\n",
       "      <th>1-05</th>\n",
       "      <td>180.3</td>\n",
       "      <td>119.3</td>\n",
       "    </tr>\n",
       "  </tbody>\n",
       "</table>\n",
       "</div>"
      ],
      "text/plain": [
       "       Actual_Sales  Forcast_Sale\n",
       "Month                            \n",
       "1-01          266.0           NaN\n",
       "1-02          145.9         266.0\n",
       "1-03          183.1         145.9\n",
       "1-04          119.3         183.1\n",
       "1-05          180.3         119.3"
      ]
     },
     "execution_count": 19,
     "metadata": {},
     "output_type": "execute_result"
    }
   ],
   "source": [
    "df_base.head()"
   ]
  },
  {
   "cell_type": "code",
   "execution_count": 20,
   "id": "88549dba",
   "metadata": {},
   "outputs": [],
   "source": [
    "# dorp nan value\n",
    "df_base.dropna(inplace=True)"
   ]
  },
  {
   "cell_type": "code",
   "execution_count": 21,
   "id": "a0bf89eb",
   "metadata": {},
   "outputs": [
    {
     "data": {
      "text/html": [
       "<div>\n",
       "<style scoped>\n",
       "    .dataframe tbody tr th:only-of-type {\n",
       "        vertical-align: middle;\n",
       "    }\n",
       "\n",
       "    .dataframe tbody tr th {\n",
       "        vertical-align: top;\n",
       "    }\n",
       "\n",
       "    .dataframe thead th {\n",
       "        text-align: right;\n",
       "    }\n",
       "</style>\n",
       "<table border=\"1\" class=\"dataframe\">\n",
       "  <thead>\n",
       "    <tr style=\"text-align: right;\">\n",
       "      <th></th>\n",
       "      <th>Actual_Sales</th>\n",
       "      <th>Forcast_Sale</th>\n",
       "    </tr>\n",
       "    <tr>\n",
       "      <th>Month</th>\n",
       "      <th></th>\n",
       "      <th></th>\n",
       "    </tr>\n",
       "  </thead>\n",
       "  <tbody>\n",
       "    <tr>\n",
       "      <th>1-02</th>\n",
       "      <td>145.9</td>\n",
       "      <td>266.0</td>\n",
       "    </tr>\n",
       "    <tr>\n",
       "      <th>1-03</th>\n",
       "      <td>183.1</td>\n",
       "      <td>145.9</td>\n",
       "    </tr>\n",
       "    <tr>\n",
       "      <th>1-04</th>\n",
       "      <td>119.3</td>\n",
       "      <td>183.1</td>\n",
       "    </tr>\n",
       "    <tr>\n",
       "      <th>1-05</th>\n",
       "      <td>180.3</td>\n",
       "      <td>119.3</td>\n",
       "    </tr>\n",
       "    <tr>\n",
       "      <th>1-06</th>\n",
       "      <td>168.5</td>\n",
       "      <td>180.3</td>\n",
       "    </tr>\n",
       "  </tbody>\n",
       "</table>\n",
       "</div>"
      ],
      "text/plain": [
       "       Actual_Sales  Forcast_Sale\n",
       "Month                            \n",
       "1-02          145.9         266.0\n",
       "1-03          183.1         145.9\n",
       "1-04          119.3         183.1\n",
       "1-05          180.3         119.3\n",
       "1-06          168.5         180.3"
      ]
     },
     "execution_count": 21,
     "metadata": {},
     "output_type": "execute_result"
    }
   ],
   "source": [
    "df_base.head()"
   ]
  },
  {
   "cell_type": "code",
   "execution_count": 22,
   "id": "0e82833a",
   "metadata": {},
   "outputs": [],
   "source": [
    "# Now means squard error\n",
    "from sklearn.metrics import mean_squared_error"
   ]
  },
  {
   "cell_type": "code",
   "execution_count": 23,
   "id": "6a1f75c6",
   "metadata": {},
   "outputs": [],
   "source": [
    "df_error=mean_squared_error(df_base.Actual_Sales,df_base.Forcast_Sale)"
   ]
  },
  {
   "cell_type": "code",
   "execution_count": 24,
   "id": "2ab3135b",
   "metadata": {},
   "outputs": [
    {
     "data": {
      "text/plain": [
       "11715.388285714285"
      ]
     },
     "execution_count": 24,
     "metadata": {},
     "output_type": "execute_result"
    }
   ],
   "source": [
    "df_error"
   ]
  },
  {
   "cell_type": "code",
   "execution_count": 25,
   "id": "8e79c180",
   "metadata": {},
   "outputs": [],
   "source": [
    "df_error_sqrt=np.sqrt(df_error)"
   ]
  },
  {
   "cell_type": "code",
   "execution_count": 26,
   "id": "8c26c81c",
   "metadata": {},
   "outputs": [
    {
     "data": {
      "text/plain": [
       "108.23764726616282"
      ]
     },
     "execution_count": 26,
     "metadata": {},
     "output_type": "execute_result"
    }
   ],
   "source": [
    "df_error_sqrt"
   ]
  },
  {
   "cell_type": "markdown",
   "id": "da1a0552",
   "metadata": {},
   "source": [
    "# Now used Arima model\n",
    "\n",
    "ARIMA(p,d,q)"
   ]
  },
  {
   "cell_type": "code",
   "execution_count": 27,
   "id": "456cd983",
   "metadata": {},
   "outputs": [],
   "source": [
    "from statsmodels.graphics.tsaplots import plot_pacf,plot_acf"
   ]
  },
  {
   "cell_type": "code",
   "execution_count": 28,
   "id": "9f01ba60",
   "metadata": {},
   "outputs": [
    {
     "data": {
      "image/png": "[encoded data removed]",
      "text/plain": [
       "<Figure size 432x288 with 1 Axes>"
      ]
     },
     "execution_count": 28,
     "metadata": {},
     "output_type": "execute_result"
    },
    {
     "data": {
      "image/png": "[encoded data removed]",
      "text/plain": [
       "<Figure size 432x288 with 1 Axes>"
      ]
     },
     "metadata": {
      "needs_background": "light"
     },
     "output_type": "display_data"
    }
   ],
   "source": [
    "plot_acf(df)"
   ]
  },
  {
   "cell_type": "code",
   "execution_count": 29,
   "id": "5b6f6157",
   "metadata": {},
   "outputs": [
    {
     "data": {
      "image/png": "[encoded data removed]",
      "text/plain": [
       "<Figure size 432x288 with 1 Axes>"
      ]
     },
     "execution_count": 29,
     "metadata": {},
     "output_type": "execute_result"
    },
    {
     "data": {
      "image/png": "[encoded data removed]",
      "text/plain": [
       "<Figure size 432x288 with 1 Axes>"
      ]
     },
     "metadata": {
      "needs_background": "light"
     },
     "output_type": "display_data"
    }
   ],
   "source": [
    "# Q-3 , p-2 , d-0-2\n",
    "plot_pacf(df)"
   ]
  },
  {
   "cell_type": "code",
   "execution_count": 30,
   "id": "1b9c2405",
   "metadata": {},
   "outputs": [],
   "source": [
    "from statsmodels.tsa.arima_model import ARIMA\n",
    "import warnings\n",
    "warnings.filterwarnings('ignore')"
   ]
  },
  {
   "cell_type": "code",
   "execution_count": 31,
   "id": "28297206",
   "metadata": {},
   "outputs": [],
   "source": [
    "df_train=df[0:27]\n",
    "df_test=df[27:36]"
   ]
  },
  {
   "cell_type": "code",
   "execution_count": 32,
   "id": "cd2db6d1",
   "metadata": {},
   "outputs": [],
   "source": [
    "df_model=ARIMA(df_train,order=(2,1,3))"
   ]
  },
  {
   "cell_type": "code",
   "execution_count": 33,
   "id": "08e807a3",
   "metadata": {},
   "outputs": [],
   "source": [
    "df_model_fit=df_model.fit()"
   ]
  },
  {
   "cell_type": "code",
   "execution_count": 34,
   "id": "dc1d639f",
   "metadata": {},
   "outputs": [
    {
     "data": {
      "text/plain": [
       "302.7812310498125"
      ]
     },
     "execution_count": 34,
     "metadata": {},
     "output_type": "execute_result"
    }
   ],
   "source": [
    "df_model_fit.aic"
   ]
  },
  {
   "cell_type": "code",
   "execution_count": 35,
   "id": "6e4e89b3",
   "metadata": {},
   "outputs": [],
   "source": [
    "df_forcast=df_model_fit.forecast(steps=9)[0]"
   ]
  },
  {
   "cell_type": "code",
   "execution_count": 36,
   "id": "c0b3adaa",
   "metadata": {},
   "outputs": [
    {
     "data": {
      "text/plain": [
       "138.15679212451153"
      ]
     },
     "execution_count": 36,
     "metadata": {},
     "output_type": "execute_result"
    }
   ],
   "source": [
    "np.sqrt(mean_squared_error(df_test,df_forcast))"
   ]
  },
  {
   "cell_type": "code",
   "execution_count": 37,
   "id": "7cde5566",
   "metadata": {},
   "outputs": [],
   "source": [
    "p_values=range(0,6)\n",
    "q_values=range(0,3)\n",
    "d_values=range(0,6)"
   ]
  },
  {
   "cell_type": "code",
   "execution_count": 38,
   "id": "7672009e",
   "metadata": {},
   "outputs": [
    {
     "name": "stdout",
     "output_type": "stream",
     "text": [
      "ARIMA(0, 0, 0) MSE = 77386.52\n",
      "ARIMA(0, 0, 1) MSE = 58506.41\n",
      "ARIMA(0, 0, 2) MSE = 37782.54\n",
      "ARIMA(0, 1, 0) MSE = 15114.52\n",
      "ARIMA(0, 1, 1) MSE = 36107.92\n",
      "ARIMA(0, 1, 2) MSE = 33731.10\n",
      "ARIMA(0, 2, 0) MSE = 15647.25\n",
      "ARIMA(0, 2, 1) MSE = 13242.87\n",
      "ARIMA(0, 2, 2) MSE = 20549.31\n",
      "ARIMA(1, 0, 0) MSE = 39759.04\n",
      "ARIMA(1, 0, 1) MSE = 33701.57\n",
      "ARIMA(1, 0, 2) MSE = 55565.63\n",
      "ARIMA(1, 1, 0) MSE = 24996.49\n",
      "ARIMA(1, 1, 1) MSE = 43122.91\n",
      "ARIMA(1, 1, 2) MSE = 40352.09\n",
      "ARIMA(1, 2, 0) MSE = 13572.93\n",
      "ARIMA(1, 2, 1) MSE = 19249.59\n",
      "ARIMA(1, 2, 2) MSE = 25872.07\n",
      "ARIMA(2, 0, 0) MSE = 35545.89\n",
      "ARIMA(2, 0, 1) MSE = 38080.46\n",
      "ARIMA(2, 1, 0) MSE = 26641.96\n",
      "ARIMA(2, 1, 1) MSE = 38483.26\n",
      "ARIMA(2, 2, 0) MSE = 13549.93\n",
      "ARIMA(2, 2, 1) MSE = 20185.37\n",
      "ARIMA(3, 0, 0) MSE = 35669.86\n",
      "ARIMA(3, 1, 0) MSE = 38986.29\n",
      "ARIMA(3, 1, 1) MSE = 36499.22\n",
      "ARIMA(3, 1, 2) MSE = 31364.83\n",
      "ARIMA(3, 2, 0) MSE = 28375.29\n",
      "ARIMA(3, 2, 1) MSE = 28903.81\n",
      "ARIMA(3, 2, 2) MSE = 30733.29\n",
      "ARIMA(4, 0, 0) MSE = 44899.63\n",
      "ARIMA(4, 0, 1) MSE = 41325.43\n",
      "ARIMA(4, 1, 0) MSE = 34473.82\n",
      "ARIMA(4, 1, 1) MSE = 34609.74\n",
      "ARIMA(4, 1, 2) MSE = 30727.05\n",
      "ARIMA(4, 2, 0) MSE = 27125.79\n",
      "ARIMA(4, 2, 1) MSE = 23461.99\n",
      "ARIMA(4, 2, 2) MSE = 26273.13\n",
      "ARIMA(5, 0, 0) MSE = 41065.24\n",
      "ARIMA(5, 1, 0) MSE = 34658.24\n",
      "ARIMA(5, 1, 1) MSE = 36619.68\n",
      "ARIMA(5, 1, 2) MSE = 30882.57\n",
      "ARIMA(5, 2, 0) MSE = 26375.52\n",
      "ARIMA(5, 2, 1) MSE = 23147.73\n",
      "ARIMA(5, 2, 2) MSE = 30080.12\n"
     ]
    }
   ],
   "source": [
    "for p in p_values:\n",
    "    for d in d_values:\n",
    "        for q in q_values:\n",
    "            order=(p,d,q)\n",
    "            \n",
    "            train,test=df[0:26],df[26:36]\n",
    "            predictions=list()\n",
    "            \n",
    "            for i in range(len(test)):\n",
    "                try:\n",
    "                    model=ARIMA(train,order)\n",
    "                    model_fit=model.fit(disp=0)\n",
    "                    y_pred=model_fit.forecast()[0]\n",
    "                    \n",
    "                    predictions.append(y_pred)\n",
    "                    \n",
    "                    error=mean_squared_error(test,predictions)\n",
    "                    \n",
    "                    print('ARIMA%s MSE = %.2f'% (order,error))\n",
    "                except:\n",
    "                    continue"
   ]
  },
  {
   "cell_type": "code",
   "execution_count": 40,
   "id": "f12ddb36",
   "metadata": {},
   "outputs": [
    {
     "name": "stdout",
     "output_type": "stream",
     "text": [
      "ARIMA(0, 0, 0) MSE = 83882.78\n",
      "SR-MSE : {f} 289.6252375815514\n",
      "\n",
      "\n",
      "\n",
      "ARIMA(0, 0, 1) MSE = 79922.84\n",
      "SR-MSE : {f} 282.70628553784076\n",
      "\n",
      "\n",
      "\n",
      "ARIMA(0, 0, 2) MSE = 60241.08\n",
      "SR-MSE : {f} 245.44058022902405\n",
      "\n",
      "\n",
      "\n",
      "ARIMA(0, 1, 0) MSE = 49514.47\n",
      "SR-MSE : {f} 222.51847255055648\n",
      "\n",
      "\n",
      "\n",
      "ARIMA(0, 1, 1) MSE = 37271.65\n",
      "SR-MSE : {f} 193.05865992635927\n",
      "\n",
      "\n",
      "\n",
      "ARIMA(0, 1, 2) MSE = 24963.08\n",
      "SR-MSE : {f} 157.9971026266251\n",
      "\n",
      "\n",
      "\n",
      "ARIMA(0, 2, 0) MSE = 115791.45\n",
      "SR-MSE : {f} 340.2814238544979\n",
      "\n",
      "\n",
      "\n",
      "ARIMA(0, 2, 1) MSE = 43058.28\n",
      "SR-MSE : {f} 207.50488615114517\n",
      "\n",
      "\n",
      "\n",
      "ARIMA(0, 2, 2) MSE = 18640.48\n",
      "SR-MSE : {f} 136.53015845542595\n",
      "\n",
      "\n",
      "\n",
      "ARIMA(1, 0, 0) MSE = 67903.68\n",
      "SR-MSE : {f} 260.5833548510782\n",
      "\n",
      "\n",
      "\n",
      "ARIMA(1, 0, 1) MSE = 44285.40\n",
      "SR-MSE : {f} 210.44095738639268\n",
      "\n",
      "\n",
      "\n",
      "ARIMA(1, 0, 2) MSE = 32573.63\n",
      "SR-MSE : {f} 180.4816587613086\n",
      "\n",
      "\n",
      "\n",
      "ARIMA(1, 1, 0) MSE = 20717.21\n",
      "SR-MSE : {f} 143.93473121274138\n",
      "\n",
      "\n",
      "\n",
      "ARIMA(1, 1, 1) MSE = 34686.26\n",
      "SR-MSE : {f} 186.24247275439336\n",
      "\n",
      "\n",
      "\n",
      "ARIMA(1, 1, 2) MSE = 23959.31\n",
      "SR-MSE : {f} 154.78795647320737\n",
      "\n",
      "\n",
      "\n",
      "ARIMA(1, 2, 0) MSE = 29531.24\n",
      "SR-MSE : {f} 171.84654592114467\n",
      "\n",
      "\n",
      "\n",
      "ARIMA(2, 0, 0) MSE = 32034.76\n",
      "SR-MSE : {f} 178.98257453664655\n",
      "\n",
      "\n",
      "\n",
      "ARIMA(2, 0, 1) MSE = 49856.56\n",
      "SR-MSE : {f} 223.28583463166888\n",
      "\n",
      "\n",
      "\n",
      "ARIMA(2, 1, 0) MSE = 20726.63\n",
      "SR-MSE : {f} 143.96747149553616\n",
      "\n",
      "\n",
      "\n",
      "ARIMA(2, 1, 1) MSE = 27907.29\n",
      "SR-MSE : {f} 167.05476424323106\n",
      "\n",
      "\n",
      "\n",
      "ARIMA(2, 1, 2) MSE = 27729.84\n",
      "SR-MSE : {f} 166.522794593263\n",
      "\n",
      "\n",
      "\n",
      "ARIMA(2, 2, 0) MSE = 22909.44\n",
      "SR-MSE : {f} 151.35863173400105\n",
      "\n",
      "\n",
      "\n",
      "ARIMA(3, 0, 0) MSE = 31802.65\n",
      "SR-MSE : {f} 178.33298141473932\n",
      "\n",
      "\n",
      "\n",
      "ARIMA(3, 0, 1) MSE = 12006.67\n",
      "SR-MSE : {f} 109.57497131038495\n",
      "\n",
      "\n",
      "\n",
      "ARIMA(3, 1, 0) MSE = 25218.03\n",
      "SR-MSE : {f} 158.80184799747235\n",
      "\n",
      "\n",
      "\n",
      "ARIMA(3, 1, 1) MSE = 26510.07\n",
      "SR-MSE : {f} 162.81913295990003\n",
      "\n",
      "\n",
      "\n",
      "ARIMA(3, 1, 2) MSE = 27408.82\n",
      "SR-MSE : {f} 165.55610298813087\n",
      "\n",
      "\n",
      "\n",
      "ARIMA(3, 2, 0) MSE = 17254.61\n",
      "SR-MSE : {f} 131.35679918600917\n",
      "\n",
      "\n",
      "\n",
      "ARIMA(4, 0, 0) MSE = 33940.56\n",
      "SR-MSE : {f} 184.22965099567804\n",
      "\n",
      "\n",
      "\n",
      "ARIMA(4, 0, 1) MSE = 33873.56\n",
      "SR-MSE : {f} 184.04770519799922\n",
      "\n",
      "\n",
      "\n",
      "ARIMA(4, 1, 0) MSE = 27730.06\n",
      "SR-MSE : {f} 166.52344314379033\n",
      "\n",
      "\n",
      "\n",
      "ARIMA(4, 1, 1) MSE = 27287.24\n",
      "SR-MSE : {f} 165.188501655287\n",
      "\n",
      "\n",
      "\n",
      "ARIMA(4, 1, 2) MSE = 27183.43\n",
      "SR-MSE : {f} 164.8739673835206\n",
      "\n",
      "\n",
      "\n",
      "ARIMA(4, 2, 0) MSE = 27479.77\n",
      "SR-MSE : {f} 165.77024029476232\n",
      "\n",
      "\n",
      "\n",
      "ARIMA(4, 2, 1) MSE = 19358.92\n",
      "SR-MSE : {f} 139.13635279288846\n",
      "\n",
      "\n",
      "\n",
      "ARIMA(5, 0, 0) MSE = 31006.10\n",
      "SR-MSE : {f} 176.08547726577493\n",
      "\n",
      "\n",
      "\n",
      "ARIMA(5, 0, 1) MSE = 33713.66\n",
      "SR-MSE : {f} 183.61278972631976\n",
      "\n",
      "\n",
      "\n",
      "ARIMA(5, 1, 0) MSE = 27019.09\n",
      "SR-MSE : {f} 164.37483749958437\n",
      "\n",
      "\n",
      "\n",
      "ARIMA(5, 1, 1) MSE = 28910.06\n",
      "SR-MSE : {f} 170.02959871109786\n",
      "\n",
      "\n",
      "\n",
      "ARIMA(5, 1, 2) MSE = 25314.93\n",
      "SR-MSE : {f} 159.10665027700975\n",
      "\n",
      "\n",
      "\n",
      "ARIMA(5, 2, 0) MSE = 25151.83\n",
      "SR-MSE : {f} 158.5932758358414\n",
      "\n",
      "\n",
      "\n"
     ]
    }
   ],
   "source": [
    "for p in p_values:\n",
    "    for d in d_values:\n",
    "        for q in q_values:\n",
    "            order=(p,d,q)\n",
    "            \n",
    "            train,test=df[0:27],df[27:36]\n",
    "            predictions=list()\n",
    "            \n",
    "            for i in range(len(test)):\n",
    "                try:\n",
    "                    model=ARIMA(train,order)\n",
    "                    model_fit=model.fit(disp=0)\n",
    "                    y_pred=model_fit.forecast()[0]\n",
    "                    \n",
    "                    predictions.append(y_pred)\n",
    "                    \n",
    "                    error=mean_squared_error(test,predictions)\n",
    "                    \n",
    "                    print('ARIMA%s MSE = %.2f'% (order,error))\n",
    "                    print(\"SR-MSE : {f}\",np.sqrt(mean_squared_error(test,predictions)))\n",
    "                    print('\\n\\n')\n",
    "                except:\n",
    "                    continue"
   ]
  },
  {
   "cell_type": "code",
   "execution_count": null,
   "id": "f6d6fe10",
   "metadata": {},
   "outputs": [],
   "source": []
  }
 ],
 "metadata": {
  "kernelspec": {
   "display_name": "Python 3 (ipykernel)",
   "language": "python",
   "name": "python3"
  },
  "language_info": {
   "codemirror_mode": {
    "name": "ipython",
    "version": 3
   },
   "file_extension": ".py",
   "mimetype": "text/x-python",
   "name": "python",
   "nbconvert_exporter": "python",
   "pygments_lexer": "ipython3",
   "version": "3.9.7"
  }
 },
 "nbformat": 4,
 "nbformat_minor": 5
}
